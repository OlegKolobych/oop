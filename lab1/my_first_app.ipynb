{
 "cells": [
  {
   "cell_type": "code",
   "execution_count": 1,
   "metadata": {},
   "outputs": [
    {
     "name": "stdout",
     "output_type": "stream",
     "text": [
      "Oleg start programming at 2022-11-16 14:49:33.961724\n"
     ]
    }
   ],
   "source": [
    "from datetime import datetime\n",
    "name = \"Oleg\"\n",
    "\n",
    "print(f\"{name} start programming at {datetime.now()}\")"
   ]
  }
 ],
 "metadata": {
  "kernelspec": {
   "display_name": "Python 3.11.0 64-bit",
   "language": "python",
   "name": "python3"
  },
  "language_info": {
   "codemirror_mode": {
    "name": "ipython",
    "version": 3
   },
   "file_extension": ".py",
   "mimetype": "text/x-python",
   "name": "python",
   "nbconvert_exporter": "python",
   "pygments_lexer": "ipython3",
   "version": "3.11.0"
  },
  "orig_nbformat": 4,
  "vscode": {
   "interpreter": {
    "hash": "ccba87bc09d3bf3e82e87fe19b13d2967395b8db260ce33d419e263d83aa7cd9"
   }
  }
 },
 "nbformat": 4,
 "nbformat_minor": 2
}
